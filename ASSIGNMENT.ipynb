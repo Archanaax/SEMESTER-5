{
 "cells": [
  {
   "cell_type": "code",
   "execution_count": 5,
   "id": "310c91b2-ffd7-4497-b5a5-3e754c52bf94",
   "metadata": {},
   "outputs": [
    {
     "name": "stdout",
     "output_type": "stream",
     "text": [
      "['archana', 'fahisha', 'achu', 'nisha', 'maha', 1, 2, 3]\n"
     ]
    }
   ],
   "source": [
    "name=[\"archana\",\"fahisha\",\"achu\",\"nisha\",\"maha\",1,2,3,1,\"achu\",\"archana\"];\n",
    "def remove_duplicates(name):\n",
    "    result = []\n",
    "    for a in name:\n",
    "        if a not in result:\n",
    "            result.append(a)\n",
    "    return result\n",
    "print(remove_duplicates(name))"
   ]
  },
  {
   "cell_type": "code",
   "execution_count": null,
   "id": "45dd2884-8353-4dcf-b7f6-714a6fd61ac0",
   "metadata": {},
   "outputs": [],
   "source": []
  }
 ],
 "metadata": {
  "kernelspec": {
   "display_name": "Python 3 (ipykernel)",
   "language": "python",
   "name": "python3"
  },
  "language_info": {
   "codemirror_mode": {
    "name": "ipython",
    "version": 3
   },
   "file_extension": ".py",
   "mimetype": "text/x-python",
   "name": "python",
   "nbconvert_exporter": "python",
   "pygments_lexer": "ipython3",
   "version": "3.12.4"
  }
 },
 "nbformat": 4,
 "nbformat_minor": 5
}
